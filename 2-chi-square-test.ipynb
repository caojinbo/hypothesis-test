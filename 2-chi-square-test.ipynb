{
 "cells": [
  {
   "cell_type": "markdown",
   "id": "376ad948",
   "metadata": {},
   "source": [
    "## Chi Square test Examples\n",
    "\n",
    "Using the gender and drunk drive table\n",
    "\n",
    "| Gender  |Drunk Yes|Drunk No|Total|\n",
    "|---|---|---|---|\n",
    "| Male  |  77 | 404  | 481  | \n",
    "|  Female | 16  | 122  | 138  |\n",
    "|  Total | 93  |  526 |  619 |\n",
    "\n",
    "Male drunk driver = 77/481 = 16%, female drunk driver = 16/138 = 11.6%. Is it true that male drivers are more likely to be a drunk driver?\n",
    "\n",
    "## Hypothesis test\n",
    "* Is there a difference between gender and driving drunk?\n",
    "* This is categorical data to categorical data, cannot do ANOVA test\n",
    "* Steps\n",
    "    * if no correlation, or if gender and driving drunk is independent, what do we expect?\n",
    "        * $p(male & drunk) = p(male) * p(drunk) = 481/619 * 93/619$\n",
    "        * total male and drunk should be 619 * $p(male & drunk)$ = 72.3\n",
    "    * chi square is to sum difference between observed & expected counts\n",
    "        * $\\chi^2 = \\sum{\\frac{(observ - expect)^2}{expec}}$\n",
    "        * for 2x2 case, $\\chi^2$ > 3.84 is considered large\n",
    "        * for others, use p value p=0.201\n",
    "        \n",
    "* Post Hoc-Bonferroni method: adjustment of p to protect Type I error or accumulated error\n",
    "    * adjust p= p/c, where c is the number of comparisons\n",
    "    * if total 5 condition, 2 pair compaision = 5C2 = 5*4/2 = 10\n",
    "    * adjust p = 0.05 / 10 = 0.005"
   ]
  },
  {
   "cell_type": "code",
   "execution_count": 1,
   "id": "67a4b593",
   "metadata": {},
   "outputs": [],
   "source": [
    "import pandas as pd\n",
    "import numpy as np\n",
    "import scipy.stats as st\n",
    "import matplotlib.pyplot as plt\n",
    "import seaborn as sn"
   ]
  },
  {
   "cell_type": "code",
   "execution_count": 2,
   "id": "7aa5df68",
   "metadata": {},
   "outputs": [],
   "source": [
    "data = pd.read_csv('data/nesarc.csv', low_memory=False)"
   ]
  },
  {
   "cell_type": "code",
   "execution_count": 3,
   "id": "08a29fe1",
   "metadata": {},
   "outputs": [
    {
     "name": "stdout",
     "output_type": "stream",
     "text": [
      "ETHRACE2A      1     2    3    4     5\n",
      "S2BQ1A22                              \n",
      "1.0         7130  1529  257  121  1483\n",
      "2.0        13721  4590  320  701  4587\n",
      "ETHRACE2A        1         2         3         4         5\n",
      "S2BQ1A22                                                  \n",
      "1.0        0.34195  0.249877  0.445407  0.147202  0.244316\n",
      "2.0        0.65805  0.750123  0.554593  0.852798  0.755684\n"
     ]
    }
   ],
   "source": [
    "# MORE THAN ONCE RIDE IN VEHICLE WHILE DRIVER WAS DRINKING -S2BQ1A22, 1=yes, 2=No\n",
    "# ETHRACE2A: 1=white, 2= Black, 3=American Indian, 4=Asian, 5=Hispanic or Latino\n",
    "\n",
    "data['S2BQ1A22'] = pd.to_numeric(data['S2BQ1A22'], errors='coerce')\n",
    "data['ETHRACE2A'] = pd.to_numeric(data['ETHRACE2A'], errors='coerce')\n",
    "\n",
    "sub1 = data.copy()\n",
    "sub1['S2BQ1A22'] = sub1['S2BQ1A22'].replace(9, np.nan)\n",
    "\n",
    "sub2 = sub1[['S2BQ1A22', 'ETHRACE2A']].dropna()\n",
    "ct1 = pd.crosstab(sub2['S2BQ1A22'], sub2['ETHRACE2A'])\n",
    "colsum = ct1.sum(axis=0)\n",
    "colpct = ct1 / colsum\n",
    "print(ct1)\n",
    "print(colpct)"
   ]
  },
  {
   "cell_type": "markdown",
   "id": "937733b3",
   "metadata": {},
   "source": [
    "The observed counts and ratios can be found in the following figure. As shown in the ratio figure, ethnic group 4 is most unlikely to ride when the drive was drinking (14.7%), while ethnic group 3 is mostl likely to ride when the driver was drinking (44.5). Running the the chi2 test we found x2 to be 477.2 and the p value to be 5.6E-102. Clearly there is a relation between the riding in vhicle while driver was drinking and the ethnic groups."
   ]
  },
  {
   "cell_type": "code",
   "execution_count": 4,
   "id": "033a9766",
   "metadata": {},
   "outputs": [
    {
     "name": "stdout",
     "output_type": "stream",
     "text": [
      "(477.23544699584426, 5.612525644138293e-102, 4, array([[ 6369.30572897,  1869.15647957,   176.25482738,   251.09439879,\n",
      "         1854.18856529],\n",
      "       [14481.69427103,  4249.84352043,   400.74517262,   570.90560121,\n",
      "         4215.81143471]]))\n"
     ]
    }
   ],
   "source": [
    "ct1_x2 = st.chi2_contingency(ct1)\n",
    "print(ct1_x2)"
   ]
  },
  {
   "cell_type": "code",
   "execution_count": 5,
   "id": "d9eb2b8c",
   "metadata": {},
   "outputs": [
    {
     "data": {
      "text/plain": [
       "<seaborn.axisgrid.FacetGrid at 0x222a57f6d90>"
      ]
     },
     "execution_count": 5,
     "metadata": {},
     "output_type": "execute_result"
    },
    {
     "data": {
      "image/png": "[encoded data removed]",
      "text/plain": [
       "<Figure size 360x360 with 1 Axes>"
      ]
     },
     "metadata": {
      "needs_background": "light"
     },
     "output_type": "display_data"
    }
   ],
   "source": [
    "sn.catplot(x=\"ETHRACE2A\", y=\"S2BQ1A22\", data=sub2, kind=\"bar\", ci=None)"
   ]
  },
  {
   "cell_type": "code",
   "execution_count": 6,
   "id": "7093f58a",
   "metadata": {},
   "outputs": [
    {
     "name": "stdout",
     "output_type": "stream",
     "text": [
      "Pair=(1, 2), chi2=183.56, p=8.11E-42\n",
      "Pair=(1, 3), chi2=26.15, p=3.16E-07\n",
      "Pair=(1, 4), chi2=133.85, p=5.89E-31\n",
      "Pair=(1, 5), chi2=205.52, p=1.30E-46\n",
      "Pair=(2, 3), chi2=102.07, p=5.35E-24\n",
      "Pair=(2, 4), chi2=41.59, p=1.12E-10\n",
      "Pair=(2, 5), chi2=0.48, p=4.90E-01\n",
      "Pair=(3, 4), chi2=151.38, p=8.65E-35\n",
      "Pair=(3, 5), chi2=109.22, p=1.45E-25\n",
      "Pair=(4, 5), chi2=37.69, p=8.27E-10\n"
     ]
    }
   ],
   "source": [
    "pairs = [(1, 2), (1, 3), (1, 4), (1, 5), (2, 3), (2, 4), (2, 5), (3, 4), (3, 5), (4, 5)]\n",
    "for pair in pairs:\n",
    "    df = sub2[sub2.ETHRACE2A.isin(pair)]\n",
    "    ct = pd.crosstab(df['S2BQ1A22'], df['ETHRACE2A'])\n",
    "    colsum = df.sum(axis=0)\n",
    "    colpct = df / colsum\n",
    "    ct_x2 = st.chi2_contingency(ct)\n",
    "    print(\"Pair={}, chi2={:.2f}, p={:.2E}\".format(pair, *ct_x2[:2]))"
   ]
  },
  {
   "cell_type": "markdown",
   "id": "c367df4d",
   "metadata": {},
   "source": [
    "Since there are 5 ethnic groups, there are a total of 10 possible pairs which might show the dependence. We did the post hoc test to figure out which two groups have the dependence. Here number of runs is 10, and the adjust p value is 0.05/10=0.005.\n",
    "\n",
    "As shown in the following output, the paris (2, 5) have p value > 0.005, which indicates there are no correlations  between riding in vehicle while the driver was drinking and the ethnic groups. All the other pairs have p value much less the adjust p value threshold 0.005, indicating that people from those groups have different tedency of riding in a vehicle when the driver is drunk. \n",
    "\n"
   ]
  },
  {
   "cell_type": "code",
   "execution_count": null,
   "id": "388eb8c4",
   "metadata": {},
   "outputs": [],
   "source": []
  }
 ],
 "metadata": {
  "kernelspec": {
   "display_name": "Python 3 (ipykernel)",
   "language": "python",
   "name": "python3"
  },
  "language_info": {
   "codemirror_mode": {
    "name": "ipython",
    "version": 3
   },
   "file_extension": ".py",
   "mimetype": "text/x-python",
   "name": "python",
   "nbconvert_exporter": "python",
   "pygments_lexer": "ipython3",
   "version": "3.9.7"
  }
 },
 "nbformat": 4,
 "nbformat_minor": 5
}
