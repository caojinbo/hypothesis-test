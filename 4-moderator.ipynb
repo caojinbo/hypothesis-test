{
 "cells": [
  {
   "cell_type": "markdown",
   "id": "496a0549",
   "metadata": {},
   "source": [
    "## Moderator\n",
    "### moderation aka statistical interaction\n",
    "### Causation study\n",
    "* causation is very hard to prove in statistics\n",
    "* lurking variables, or hidden variable might exist\n",
    "* the best is to do experiments, but sometimes we cannot due to some reasons\n",
    "* retrospective vs prospective studies"
   ]
  },
  {
   "cell_type": "code",
   "execution_count": 1,
   "id": "abe36fa2",
   "metadata": {},
   "outputs": [],
   "source": [
    "import numpy as np\n",
    "import pandas as pd\n",
    "import statsmodels.formula.api as smf\n",
    "import statsmodels.stats.multicomp as multi "
   ]
  },
  {
   "cell_type": "code",
   "execution_count": 2,
   "id": "01ae2962",
   "metadata": {},
   "outputs": [],
   "source": [
    "data = pd.read_csv('data/nesarc.csv', low_memory=False)"
   ]
  },
  {
   "cell_type": "code",
   "execution_count": 3,
   "id": "b74ae676",
   "metadata": {},
   "outputs": [],
   "source": [
    "data['S3AQ3B1'] = pd.to_numeric(data['S3AQ3B1'], errors='coerce')\n",
    "data['S3AQ3C1'] = pd.to_numeric(data['S3AQ3C1'], errors='coerce')\n",
    "data['CHECK321'] = pd.to_numeric(data['CHECK321'], errors='coerce')\n",
    "data['S9Q1A'] = pd.to_numeric(data['S9Q1A'], errors='coerce')\n",
    "\n",
    "#subset data to young adults age 18 to 25 who have smoked in the past 12 months\n",
    "sub1=data[(data['AGE']>=18) & (data['AGE']<=25) & (data['CHECK321']==1)].copy()\n",
    "\n",
    "# use all data\n",
    "#sub1=data.copy()\n",
    "#SETTING MISSING DATA\n",
    "sub1['S3AQ3B1']=sub1['S3AQ3B1'].replace(9, np.nan)\n",
    "sub1['S3AQ3C1']=sub1['S3AQ3C1'].replace(99, np.nan)\n",
    "sub1['S9Q1A']=sub1['S9Q1A'].replace(9, np.nan)\n",
    "\n",
    "#recoding number of days smoked in the past month\n",
    "recode1 = {1: 30, 2: 22, 3: 14, 4: 5, 5: 2.5, 6: 1}\n",
    "sub1['USFREQMO']= sub1['S3AQ3B1'].map(recode1)\n",
    "\n",
    "# Creating a secondary variable multiplying the days smoked/month and the number of cig/per day\n",
    "sub1['NUMCIGMO_EST']=sub1['USFREQMO'] * sub1['S3AQ3C1']\n",
    "\n",
    "sub1['NUMCIGMO_EST']= sub1['NUMCIGMO_EST']\n",
    "\n",
    "ct1 = sub1.groupby('NUMCIGMO_EST').size()"
   ]
  },
  {
   "cell_type": "code",
   "execution_count": 4,
   "id": "21642486",
   "metadata": {},
   "outputs": [
    {
     "name": "stdout",
     "output_type": "stream",
     "text": [
      "                            OLS Regression Results                            \n",
      "==============================================================================\n",
      "Dep. Variable:           NUMCIGMO_EST   R-squared:                       0.002\n",
      "Model:                            OLS   Adj. R-squared:                  0.002\n",
      "Method:                 Least Squares   F-statistic:                     3.550\n",
      "Date:                Sat, 07 May 2022   Prob (F-statistic):             0.0597\n",
      "Time:                        15:44:59   Log-Likelihood:                -11934.\n",
      "No. Observations:                1697   AIC:                         2.387e+04\n",
      "Df Residuals:                    1695   BIC:                         2.388e+04\n",
      "Df Model:                           1                                         \n",
      "Covariance Type:            nonrobust                                         \n",
      "========================================================================================\n",
      "                           coef    std err          t      P>|t|      [0.025      0.975]\n",
      "----------------------------------------------------------------------------------------\n",
      "Intercept              312.8380      7.747     40.381      0.000     297.643     328.033\n",
      "C(MAJORDEPLIFE)[T.1]    28.5370     15.146      1.884      0.060      -1.169      58.243\n",
      "==============================================================================\n",
      "Omnibus:                      673.875   Durbin-Watson:                   1.982\n",
      "Prob(Omnibus):                  0.000   Jarque-Bera (JB):             5043.141\n",
      "Skew:                           1.672   Prob(JB):                         0.00\n",
      "Kurtosis:                      10.755   Cond. No.                         2.46\n",
      "==============================================================================\n",
      "\n",
      "Notes:\n",
      "[1] Standard Errors assume that the covariance matrix of the errors is correctly specified.\n",
      "means for numcigmo_est by major depression status\n",
      "              NUMCIGMO_EST  MAJORDEP12  ALCABDEP12DX\n",
      "MAJORDEPLIFE                                        \n",
      "0               312.837989    0.000000      0.617717\n",
      "1               341.375000    0.677928      0.779279\n",
      "standard deviations for numcigmo_est by major depression status\n",
      "              NUMCIGMO_EST  MAJORDEP12  ALCABDEP12DX\n",
      "MAJORDEPLIFE                                        \n",
      "0               269.002344    0.000000      1.072413\n",
      "1               288.495118    0.467798      1.171876\n"
     ]
    }
   ],
   "source": [
    "sub2 = sub1[['NUMCIGMO_EST', 'MAJORDEPLIFE', 'MAJORDEP12', 'ALCABDEP12DX']].dropna()\n",
    "model1 = smf.ols(formula='NUMCIGMO_EST ~ C(MAJORDEPLIFE)', data=sub2)\n",
    "results1 = model1.fit()\n",
    "print (results1.summary())\n",
    "\n",
    "print ('means for numcigmo_est by major depression status')\n",
    "m1= sub2.groupby('MAJORDEPLIFE').mean()\n",
    "print (m1)\n",
    "print ('standard deviations for numcigmo_est by major depression status')\n",
    "sd1 = sub2.groupby('MAJORDEPLIFE').std()\n",
    "print (sd1)"
   ]
  },
  {
   "cell_type": "markdown",
   "id": "316b6706",
   "metadata": {},
   "source": [
    "The question of interest here is the dependence of number of cigarette smoked and depression in life. As shown in the following figure,  the F-statistic is 3.55 and p score is 0.059, which means statistically they are not dependent. "
   ]
  },
  {
   "cell_type": "code",
   "execution_count": 5,
   "id": "7d91d0fb",
   "metadata": {},
   "outputs": [
    {
     "name": "stdout",
     "output_type": "stream",
     "text": [
      "Alcohol abuse/dependence status 0\n",
      "                            OLS Regression Results                            \n",
      "==============================================================================\n",
      "Dep. Variable:           NUMCIGMO_EST   R-squared:                       0.004\n",
      "Model:                            OLS   Adj. R-squared:                  0.003\n",
      "Method:                 Least Squares   F-statistic:                     4.341\n",
      "Date:                Sat, 07 May 2022   Prob (F-statistic):             0.0374\n",
      "Time:                        15:44:59   Log-Likelihood:                -8134.9\n",
      "No. Observations:                1168   AIC:                         1.627e+04\n",
      "Df Residuals:                    1166   BIC:                         1.628e+04\n",
      "Df Model:                           1                                         \n",
      "Covariance Type:            nonrobust                                         \n",
      "========================================================================================\n",
      "                           coef    std err          t      P>|t|      [0.025      0.975]\n",
      "----------------------------------------------------------------------------------------\n",
      "Intercept              303.6984      8.634     35.176      0.000     286.759     320.638\n",
      "C(MAJORDEPLIFE)[T.1]    36.3505     17.447      2.083      0.037       2.119      70.582\n",
      "==============================================================================\n",
      "Omnibus:                      229.247   Durbin-Watson:                   1.908\n",
      "Prob(Omnibus):                  0.000   Jarque-Bera (JB):              479.654\n",
      "Skew:                           1.115   Prob(JB):                    6.99e-105\n",
      "Kurtosis:                       5.209   Cond. No.                         2.49\n",
      "==============================================================================\n",
      "\n",
      "Notes:\n",
      "[1] Standard Errors assume that the covariance matrix of the errors is correctly specified.\n",
      "means for numcigmo_est by major depression status\n",
      "              NUMCIGMO_EST  MAJORDEP12  ALCABDEP12DX\n",
      "MAJORDEPLIFE                                        \n",
      "0               303.698413    0.000000           0.0\n",
      "1               340.048951    0.625874           0.0\n",
      "standard deviations for numcigmo_est by major depression status\n",
      "              NUMCIGMO_EST  MAJORDEP12  ALCABDEP12DX\n",
      "MAJORDEPLIFE                                        \n",
      "0               251.525102    0.000000           0.0\n",
      "1               270.933729    0.484745           0.0\n",
      "Alcohol abuse/dependence status 1\n",
      "                            OLS Regression Results                            \n",
      "==============================================================================\n",
      "Dep. Variable:           NUMCIGMO_EST   R-squared:                       0.000\n",
      "Model:                            OLS   Adj. R-squared:                 -0.005\n",
      "Method:                 Least Squares   F-statistic:                   0.03285\n",
      "Date:                Sat, 07 May 2022   Prob (F-statistic):              0.856\n",
      "Time:                        15:44:59   Log-Likelihood:                -1327.6\n",
      "No. Observations:                 185   AIC:                             2659.\n",
      "Df Residuals:                     183   BIC:                             2666.\n",
      "Df Model:                           1                                         \n",
      "Covariance Type:            nonrobust                                         \n",
      "========================================================================================\n",
      "                           coef    std err          t      P>|t|      [0.025      0.975]\n",
      "----------------------------------------------------------------------------------------\n",
      "Intercept              312.3212     27.190     11.486      0.000     258.674     365.968\n",
      "C(MAJORDEPLIFE)[T.1]    -9.6753     53.380     -0.181      0.856    -114.995      95.644\n",
      "==============================================================================\n",
      "Omnibus:                      178.022   Durbin-Watson:                   2.170\n",
      "Prob(Omnibus):                  0.000   Jarque-Bera (JB):             4892.107\n",
      "Skew:                           3.493   Prob(JB):                         0.00\n",
      "Kurtosis:                      27.204   Cond. No.                         2.47\n",
      "==============================================================================\n",
      "\n",
      "Notes:\n",
      "[1] Standard Errors assume that the covariance matrix of the errors is correctly specified.\n",
      "means for numcigmo_est by major depression status\n",
      "              NUMCIGMO_EST  MAJORDEP12  ALCABDEP12DX\n",
      "MAJORDEPLIFE                                        \n",
      "0               312.321168    0.000000           1.0\n",
      "1               302.645833    0.666667           1.0\n",
      "standard deviations for numcigmo_est by major depression status\n",
      "              NUMCIGMO_EST  MAJORDEP12  ALCABDEP12DX\n",
      "MAJORDEPLIFE                                        \n",
      "0               340.888651    0.000000           0.0\n",
      "1               241.073639    0.476393           0.0\n"
     ]
    }
   ],
   "source": [
    "for aldep in [0, 1]:\n",
    "    print (\"Alcohol abuse/dependence status\", aldep)\n",
    "    sub2 = sub1[['NUMCIGMO_EST', 'MAJORDEPLIFE', 'MAJORDEP12', 'ALCABDEP12DX']].dropna()\n",
    "    sub2 = sub2[sub2.ALCABDEP12DX == aldep]\n",
    "    model1 = smf.ols(formula='NUMCIGMO_EST ~ C(MAJORDEPLIFE)', data=sub2)\n",
    "    results1 = model1.fit()\n",
    "    print (results1.summary())\n",
    "\n",
    "    print ('means for numcigmo_est by major depression status')\n",
    "    m1= sub2.groupby('MAJORDEPLIFE').mean()\n",
    "    print (m1)\n",
    "    print ('standard deviations for numcigmo_est by major depression status')\n",
    "    sd1 = sub2.groupby('MAJORDEPLIFE').std()\n",
    "    print (sd1)"
   ]
  },
  {
   "cell_type": "markdown",
   "id": "59da75cc",
   "metadata": {},
   "source": [
    "Now I added a moderator “Alcohol abuse”. Interestingly, for Alcohol abuse = 0 (no abuse), the dependence of number of cigarette smoked correlate with life depression. The F-statistic is 4.314 and p score is 0.0374. For alcohol abuse = 1 (yes abuse), the F-statistic is 0.03285 and p socre is 0.856, which indicates there are no correlations between dependence of number of cigarette smoked and life depression."
   ]
  },
  {
   "cell_type": "markdown",
   "id": "8ff5cebd",
   "metadata": {},
   "source": [
    "Conclusion: Alchohol abuse is a moderator for the dependence of number of cigarette smoked and life depression."
   ]
  },
  {
   "cell_type": "code",
   "execution_count": null,
   "id": "a731c25a",
   "metadata": {},
   "outputs": [],
   "source": []
  }
 ],
 "metadata": {
  "kernelspec": {
   "display_name": "Python 3 (ipykernel)",
   "language": "python",
   "name": "python3"
  },
  "language_info": {
   "codemirror_mode": {
    "name": "ipython",
    "version": 3
   },
   "file_extension": ".py",
   "mimetype": "text/x-python",
   "name": "python",
   "nbconvert_exporter": "python",
   "pygments_lexer": "ipython3",
   "version": "3.9.7"
  }
 },
 "nbformat": 4,
 "nbformat_minor": 5
}
